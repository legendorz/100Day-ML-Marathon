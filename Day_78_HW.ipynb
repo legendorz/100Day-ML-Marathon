{
 "cells": [
  {
   "cell_type": "markdown",
   "metadata": {},
   "source": [
    "## Work\n",
    "1. 請嘗試將 preproc_x 替換成以每筆資料的 min/max 進行標準化至 -1 ~ 1 間，再進行訓練\n",
    "2. 請嘗試將 mlp 疊更深 (e.g 5~10 層)，進行訓練後觀察 learning curve 的走勢\n",
    "3. (optional) 請改用 GPU 進行訓練 (如果你有 GPU 的話)，比較使用 CPU 與 GPU 的訓練速度"
   ]
  },
  {
   "cell_type": "code",
   "execution_count": 1,
   "metadata": {},
   "outputs": [
    {
     "data": {
      "text/plain": [
       "'\\nYour code here\\n'"
      ]
     },
     "execution_count": 1,
     "metadata": {},
     "output_type": "execute_result"
    }
   ],
   "source": [
    "## 確認硬體資源\n",
    "\"\"\"\n",
    "Your code here\n",
    "\"\"\"\n",
    "#!nvidia-smi"
   ]
  },
  {
   "cell_type": "code",
   "execution_count": 2,
   "metadata": {},
   "outputs": [
    {
     "name": "stderr",
     "output_type": "stream",
     "text": [
      "Using TensorFlow backend.\n"
     ]
    }
   ],
   "source": [
    "import os\n",
    "import keras\n",
    "\n",
    "# Try to enable GPU (optional)\n"
   ]
  },
  {
   "cell_type": "code",
   "execution_count": 3,
   "metadata": {
    "collapsed": true
   },
   "outputs": [],
   "source": [
    "train, test = keras.datasets.cifar10.load_data()"
   ]
  },
  {
   "cell_type": "code",
   "execution_count": 4,
   "metadata": {
    "collapsed": true
   },
   "outputs": [],
   "source": [
    "## 資料前處理\n",
    "\"\"\"\n",
    "Your code here\n",
    "\"\"\"\n",
    "def preproc_x(x, flatten=True):\n",
    "    x = 2*(((x - x.min()) / (x.max() - x.min()))-0.5)\n",
    "    if flatten:\n",
    "        x = x.reshape((len(x), -1))\n",
    "    return x\n",
    "\n",
    "def preproc_y(y, num_classes=10):\n",
    "    if y.shape[-1] == 1:\n",
    "        y = keras.utils.to_categorical(y, num_classes)\n",
    "    return y"
   ]
  },
  {
   "cell_type": "code",
   "execution_count": 5,
   "metadata": {
    "collapsed": true
   },
   "outputs": [],
   "source": [
    "x_train, y_train = train\n",
    "x_test, y_test = test\n",
    "\n",
    "# Preproc the inputs\n",
    "x_train = preproc_x(x_train)\n",
    "x_test = preproc_x(x_test)\n",
    "\n",
    "# Preprc the outputs\n",
    "y_train = preproc_y(y_train)\n",
    "y_test = preproc_y(y_test)"
   ]
  },
  {
   "cell_type": "code",
   "execution_count": 6,
   "metadata": {},
   "outputs": [],
   "source": [
    "#將 mlp 疊5層\n",
    "def build_mlp(input_shape, output_units=10, num_neurons=[512, 256, 128, 128, 128]):\n",
    "    input_layer = keras.layers.Input(input_shape)\n",
    "    \n",
    "    for i, n_units in enumerate(num_neurons):\n",
    "        if i == 0:\n",
    "            x = keras.layers.Dense(units=n_units, activation=\"relu\", name=\"hidden_layer\"+str(i+1))(input_layer)\n",
    "        else:\n",
    "            x = keras.layers.Dense(units=n_units, activation=\"relu\", name=\"hidden_layer\"+str(i+1))(x)\n",
    "    \n",
    "    out = keras.layers.Dense(units=output_units, activation=\"softmax\", name=\"output\")(x)\n",
    "    \n",
    "    model = keras.models.Model(inputs=[input_layer], outputs=[out])\n",
    "    return model\n",
    "\n"
   ]
  },
  {
   "cell_type": "code",
   "execution_count": 7,
   "metadata": {},
   "outputs": [
    {
     "name": "stdout",
     "output_type": "stream",
     "text": [
      "WARNING:tensorflow:From /Users/glenn/anaconda3/lib/python3.6/site-packages/tensorflow/python/framework/op_def_library.py:263: colocate_with (from tensorflow.python.framework.ops) is deprecated and will be removed in a future version.\n",
      "Instructions for updating:\n",
      "Colocations handled automatically by placer.\n",
      "_________________________________________________________________\n",
      "Layer (type)                 Output Shape              Param #   \n",
      "=================================================================\n",
      "input_1 (InputLayer)         (None, 3072)              0         \n",
      "_________________________________________________________________\n",
      "hidden_layer1 (Dense)        (None, 512)               1573376   \n",
      "_________________________________________________________________\n",
      "hidden_layer2 (Dense)        (None, 256)               131328    \n",
      "_________________________________________________________________\n",
      "hidden_layer3 (Dense)        (None, 128)               32896     \n",
      "_________________________________________________________________\n",
      "hidden_layer4 (Dense)        (None, 128)               16512     \n",
      "_________________________________________________________________\n",
      "hidden_layer5 (Dense)        (None, 128)               16512     \n",
      "_________________________________________________________________\n",
      "output (Dense)               (None, 10)                1290      \n",
      "=================================================================\n",
      "Total params: 1,771,914\n",
      "Trainable params: 1,771,914\n",
      "Non-trainable params: 0\n",
      "_________________________________________________________________\n"
     ]
    }
   ],
   "source": [
    "model = build_mlp(input_shape=x_train.shape[1:])\n",
    "model.summary()"
   ]
  },
  {
   "cell_type": "code",
   "execution_count": 8,
   "metadata": {
    "collapsed": true
   },
   "outputs": [],
   "source": [
    "## 超參數設定\n",
    "LEARNING_RATE = 0.001\n",
    "EPOCHS = 100\n",
    "BATCH_SIZE = 256"
   ]
  },
  {
   "cell_type": "code",
   "execution_count": 9,
   "metadata": {
    "collapsed": true
   },
   "outputs": [],
   "source": [
    "optimizer = keras.optimizers.Adam(lr=LEARNING_RATE)\n",
    "model.compile(loss=\"categorical_crossentropy\", metrics=[\"accuracy\"], optimizer=optimizer)"
   ]
  },
  {
   "cell_type": "code",
   "execution_count": 10,
   "metadata": {},
   "outputs": [
    {
     "name": "stdout",
     "output_type": "stream",
     "text": [
      "WARNING:tensorflow:From /Users/glenn/anaconda3/lib/python3.6/site-packages/tensorflow/python/ops/math_ops.py:3066: to_int32 (from tensorflow.python.ops.math_ops) is deprecated and will be removed in a future version.\n",
      "Instructions for updating:\n",
      "Use tf.cast instead.\n",
      "Train on 50000 samples, validate on 10000 samples\n",
      "Epoch 1/100\n",
      "50000/50000 [==============================] - 16s 326us/step - loss: 1.6882 - acc: 0.4004 - val_loss: 1.5146 - val_acc: 0.4630\n",
      "Epoch 2/100\n",
      "50000/50000 [==============================] - 13s 261us/step - loss: 1.4616 - acc: 0.4830 - val_loss: 1.4283 - val_acc: 0.4956\n",
      "Epoch 3/100\n",
      "50000/50000 [==============================] - 14s 270us/step - loss: 1.3461 - acc: 0.5240 - val_loss: 1.4072 - val_acc: 0.5087\n",
      "Epoch 4/100\n",
      "50000/50000 [==============================] - 15s 301us/step - loss: 1.2522 - acc: 0.5580 - val_loss: 1.3599 - val_acc: 0.5237\n",
      "Epoch 5/100\n",
      "50000/50000 [==============================] - 15s 291us/step - loss: 1.1688 - acc: 0.5876 - val_loss: 1.3618 - val_acc: 0.5241\n",
      "Epoch 6/100\n",
      "50000/50000 [==============================] - 13s 269us/step - loss: 1.1006 - acc: 0.6100 - val_loss: 1.3705 - val_acc: 0.5267\n",
      "Epoch 7/100\n",
      "50000/50000 [==============================] - 14s 279us/step - loss: 1.0266 - acc: 0.6390 - val_loss: 1.3689 - val_acc: 0.5352\n",
      "Epoch 8/100\n",
      "50000/50000 [==============================] - 14s 270us/step - loss: 0.9495 - acc: 0.6629 - val_loss: 1.3878 - val_acc: 0.5356\n",
      "Epoch 9/100\n",
      "50000/50000 [==============================] - 13s 269us/step - loss: 0.8866 - acc: 0.6861 - val_loss: 1.4180 - val_acc: 0.5364\n",
      "Epoch 10/100\n",
      "50000/50000 [==============================] - 13s 270us/step - loss: 0.8166 - acc: 0.7101 - val_loss: 1.4543 - val_acc: 0.5307\n",
      "Epoch 11/100\n",
      "50000/50000 [==============================] - 14s 274us/step - loss: 0.7531 - acc: 0.7341 - val_loss: 1.5140 - val_acc: 0.5373\n",
      "Epoch 12/100\n",
      "50000/50000 [==============================] - 14s 271us/step - loss: 0.6856 - acc: 0.7566 - val_loss: 1.5689 - val_acc: 0.5385\n",
      "Epoch 13/100\n",
      "50000/50000 [==============================] - 13s 269us/step - loss: 0.6329 - acc: 0.7747 - val_loss: 1.5988 - val_acc: 0.5396\n",
      "Epoch 14/100\n",
      "50000/50000 [==============================] - 14s 271us/step - loss: 0.5847 - acc: 0.7903 - val_loss: 1.6881 - val_acc: 0.5359\n",
      "Epoch 15/100\n",
      "50000/50000 [==============================] - 14s 272us/step - loss: 0.5345 - acc: 0.8128 - val_loss: 1.7867 - val_acc: 0.5388\n",
      "Epoch 16/100\n",
      "50000/50000 [==============================] - 14s 272us/step - loss: 0.4849 - acc: 0.8298 - val_loss: 1.9017 - val_acc: 0.5356\n",
      "Epoch 17/100\n",
      "50000/50000 [==============================] - 14s 271us/step - loss: 0.4436 - acc: 0.8437 - val_loss: 1.9669 - val_acc: 0.5325\n",
      "Epoch 18/100\n",
      "50000/50000 [==============================] - 14s 270us/step - loss: 0.4206 - acc: 0.8501 - val_loss: 2.0544 - val_acc: 0.5334\n",
      "Epoch 19/100\n",
      "50000/50000 [==============================] - 13s 270us/step - loss: 0.3706 - acc: 0.8700 - val_loss: 2.1696 - val_acc: 0.5371\n",
      "Epoch 20/100\n",
      "50000/50000 [==============================] - 14s 274us/step - loss: 0.3446 - acc: 0.8801 - val_loss: 2.1969 - val_acc: 0.5392- loss: 0.3314 - \n",
      "Epoch 21/100\n",
      "50000/50000 [==============================] - 14s 279us/step - loss: 0.3389 - acc: 0.8808 - val_loss: 2.2240 - val_acc: 0.5327\n",
      "Epoch 22/100\n",
      "50000/50000 [==============================] - 14s 270us/step - loss: 0.3015 - acc: 0.8942 - val_loss: 2.3393 - val_acc: 0.5311\n",
      "Epoch 23/100\n",
      "50000/50000 [==============================] - 14s 271us/step - loss: 0.2901 - acc: 0.8984 - val_loss: 2.3916 - val_acc: 0.5352\n",
      "Epoch 24/100\n",
      "50000/50000 [==============================] - 14s 273us/step - loss: 0.2781 - acc: 0.9022 - val_loss: 2.5285 - val_acc: 0.5232\n",
      "Epoch 25/100\n",
      "50000/50000 [==============================] - 13s 269us/step - loss: 0.2565 - acc: 0.9111 - val_loss: 2.6272 - val_acc: 0.5268\n",
      "Epoch 26/100\n",
      "50000/50000 [==============================] - 14s 274us/step - loss: 0.2413 - acc: 0.9152 - val_loss: 2.6559 - val_acc: 0.5278\n",
      "Epoch 27/100\n",
      "50000/50000 [==============================] - 14s 271us/step - loss: 0.2209 - acc: 0.9230 - val_loss: 2.7893 - val_acc: 0.5322\n",
      "Epoch 28/100\n",
      "50000/50000 [==============================] - 14s 271us/step - loss: 0.2140 - acc: 0.9260 - val_loss: 2.7088 - val_acc: 0.5289\n",
      "Epoch 29/100\n",
      "50000/50000 [==============================] - 14s 279us/step - loss: 0.2209 - acc: 0.9246 - val_loss: 2.7749 - val_acc: 0.5199924\n",
      "Epoch 30/100\n",
      "50000/50000 [==============================] - 14s 274us/step - loss: 0.2028 - acc: 0.9299 - val_loss: 2.8625 - val_acc: 0.5242- loss: 0.2009 - acc: \n",
      "Epoch 31/100\n",
      "50000/50000 [==============================] - 14s 271us/step - loss: 0.1890 - acc: 0.9341 - val_loss: 3.0319 - val_acc: 0.5274\n",
      "Epoch 32/100\n",
      "50000/50000 [==============================] - 14s 271us/step - loss: 0.1950 - acc: 0.9327 - val_loss: 2.9103 - val_acc: 0.5223\n",
      "Epoch 33/100\n",
      "50000/50000 [==============================] - 14s 271us/step - loss: 0.1767 - acc: 0.9391 - val_loss: 2.9599 - val_acc: 0.5264acc: 0.94 - \n",
      "Epoch 34/100\n",
      "50000/50000 [==============================] - 13s 270us/step - loss: 0.1764 - acc: 0.9391 - val_loss: 3.0375 - val_acc: 0.5383\n",
      "Epoch 35/100\n",
      "50000/50000 [==============================] - 14s 270us/step - loss: 0.1773 - acc: 0.9400 - val_loss: 3.0787 - val_acc: 0.5279\n",
      "Epoch 36/100\n",
      "50000/50000 [==============================] - 14s 271us/step - loss: 0.1624 - acc: 0.9450 - val_loss: 3.0934 - val_acc: 0.5222\n",
      "Epoch 37/100\n",
      "50000/50000 [==============================] - 14s 273us/step - loss: 0.1486 - acc: 0.9493 - val_loss: 3.1811 - val_acc: 0.5199\n",
      "Epoch 38/100\n",
      "50000/50000 [==============================] - 14s 274us/step - loss: 0.1577 - acc: 0.9469 - val_loss: 3.2304 - val_acc: 0.5303\n",
      "Epoch 39/100\n",
      "50000/50000 [==============================] - 14s 275us/step - loss: 0.1542 - acc: 0.9474 - val_loss: 3.2475 - val_acc: 0.5303\n",
      "Epoch 40/100\n",
      "50000/50000 [==============================] - 14s 275us/step - loss: 0.1462 - acc: 0.9502 - val_loss: 3.2301 - val_acc: 0.5348- loss: 0.12 - ETA: 6s - loss: \n",
      "Epoch 41/100\n",
      "50000/50000 [==============================] - 14s 270us/step - loss: 0.1408 - acc: 0.9521 - val_loss: 3.2946 - val_acc: 0.5324\n",
      "Epoch 42/100\n",
      "50000/50000 [==============================] - 14s 271us/step - loss: 0.1501 - acc: 0.9489 - val_loss: 3.2395 - val_acc: 0.5248\n",
      "Epoch 43/100\n",
      "50000/50000 [==============================] - 14s 272us/step - loss: 0.1383 - acc: 0.9533 - val_loss: 3.4185 - val_acc: 0.5259\n",
      "Epoch 44/100\n",
      "50000/50000 [==============================] - 14s 273us/step - loss: 0.1288 - acc: 0.9569 - val_loss: 3.3856 - val_acc: 0.5270\n",
      "Epoch 45/100\n",
      "50000/50000 [==============================] - 14s 274us/step - loss: 0.1238 - acc: 0.9587 - val_loss: 3.4316 - val_acc: 0.5311\n",
      "Epoch 46/100\n",
      "50000/50000 [==============================] - 14s 273us/step - loss: 0.1320 - acc: 0.9557 - val_loss: 3.3165 - val_acc: 0.5245\n",
      "Epoch 47/100\n",
      "50000/50000 [==============================] - 14s 279us/step - loss: 0.1175 - acc: 0.9588 - val_loss: 3.4601 - val_acc: 0.5311\n",
      "Epoch 48/100\n",
      "50000/50000 [==============================] - 13s 270us/step - loss: 0.1235 - acc: 0.9593 - val_loss: 3.5018 - val_acc: 0.5303\n",
      "Epoch 49/100\n",
      "50000/50000 [==============================] - 14s 271us/step - loss: 0.1263 - acc: 0.9577 - val_loss: 3.4427 - val_acc: 0.53520.1264 - acc: 0\n",
      "Epoch 50/100\n",
      "50000/50000 [==============================] - 14s 273us/step - loss: 0.1073 - acc: 0.9647 - val_loss: 3.4767 - val_acc: 0.5331\n",
      "Epoch 51/100\n",
      "50000/50000 [==============================] - 14s 278us/step - loss: 0.1193 - acc: 0.9602 - val_loss: 3.4915 - val_acc: 0.5292\n",
      "Epoch 52/100\n",
      "50000/50000 [==============================] - 14s 279us/step - loss: 0.1359 - acc: 0.9549 - val_loss: 3.4212 - val_acc: 0.5337s - loss: \n",
      "Epoch 53/100\n",
      "50000/50000 [==============================] - 14s 271us/step - loss: 0.1090 - acc: 0.9637 - val_loss: 3.5169 - val_acc: 0.5316\n",
      "Epoch 54/100\n",
      "50000/50000 [==============================] - 14s 274us/step - loss: 0.0985 - acc: 0.9672 - val_loss: 3.6706 - val_acc: 0.5261 l\n",
      "Epoch 55/100\n"
     ]
    },
    {
     "name": "stdout",
     "output_type": "stream",
     "text": [
      "50000/50000 [==============================] - 15s 304us/step - loss: 0.1066 - acc: 0.9647 - val_loss: 3.5566 - val_acc: 0.5256\n",
      "Epoch 56/100\n",
      "50000/50000 [==============================] - 14s 273us/step - loss: 0.1066 - acc: 0.9646 - val_loss: 3.5651 - val_acc: 0.5308\n",
      "Epoch 57/100\n",
      "50000/50000 [==============================] - 14s 271us/step - loss: 0.1221 - acc: 0.9606 - val_loss: 3.5060 - val_acc: 0.5211\n",
      "Epoch 58/100\n",
      "50000/50000 [==============================] - 13s 260us/step - loss: 0.0963 - acc: 0.9678 - val_loss: 3.6841 - val_acc: 0.5244\n",
      "Epoch 59/100\n",
      "50000/50000 [==============================] - 13s 264us/step - loss: 0.1011 - acc: 0.9665 - val_loss: 3.7349 - val_acc: 0.5241\n",
      "Epoch 60/100\n",
      "50000/50000 [==============================] - 13s 259us/step - loss: 0.1032 - acc: 0.9660 - val_loss: 3.5600 - val_acc: 0.5269\n",
      "Epoch 61/100\n",
      "50000/50000 [==============================] - 12s 250us/step - loss: 0.1052 - acc: 0.9647 - val_loss: 3.6930 - val_acc: 0.5298\n",
      "Epoch 62/100\n",
      "50000/50000 [==============================] - 12s 250us/step - loss: 0.1119 - acc: 0.9630 - val_loss: 3.5543 - val_acc: 0.5282\n",
      "Epoch 63/100\n",
      "50000/50000 [==============================] - 13s 250us/step - loss: 0.1022 - acc: 0.9666 - val_loss: 3.6004 - val_acc: 0.5316\n",
      "Epoch 64/100\n",
      "50000/50000 [==============================] - 13s 250us/step - loss: 0.1034 - acc: 0.9677 - val_loss: 3.6479 - val_acc: 0.5273\n",
      "Epoch 65/100\n",
      "50000/50000 [==============================] - 13s 253us/step - loss: 0.0927 - acc: 0.9698 - val_loss: 3.6467 - val_acc: 0.5223\n",
      "Epoch 66/100\n",
      "50000/50000 [==============================] - 12s 249us/step - loss: 0.0922 - acc: 0.9697 - val_loss: 3.7351 - val_acc: 0.5333\n",
      "Epoch 67/100\n",
      "50000/50000 [==============================] - 12s 248us/step - loss: 0.0803 - acc: 0.9738 - val_loss: 3.7117 - val_acc: 0.5272\n",
      "Epoch 68/100\n",
      "50000/50000 [==============================] - 13s 262us/step - loss: 0.0851 - acc: 0.9721 - val_loss: 3.7854 - val_acc: 0.5299\n",
      "Epoch 69/100\n",
      "50000/50000 [==============================] - 12s 250us/step - loss: 0.0930 - acc: 0.9696 - val_loss: 3.7146 - val_acc: 0.5244\n",
      "Epoch 70/100\n",
      "50000/50000 [==============================] - 12s 249us/step - loss: 0.1005 - acc: 0.9664 - val_loss: 3.6513 - val_acc: 0.5281\n",
      "Epoch 71/100\n",
      "50000/50000 [==============================] - 12s 248us/step - loss: 0.0882 - acc: 0.9705 - val_loss: 3.8139 - val_acc: 0.5242\n",
      "Epoch 72/100\n",
      "50000/50000 [==============================] - 12s 249us/step - loss: 0.0838 - acc: 0.9712 - val_loss: 3.7201 - val_acc: 0.5303\n",
      "Epoch 73/100\n",
      "50000/50000 [==============================] - 12s 248us/step - loss: 0.0759 - acc: 0.9752 - val_loss: 3.7612 - val_acc: 0.5375\n",
      "Epoch 74/100\n",
      "50000/50000 [==============================] - 13s 253us/step - loss: 0.0821 - acc: 0.9726 - val_loss: 3.7024 - val_acc: 0.5296\n",
      "Epoch 75/100\n",
      "50000/50000 [==============================] - 12s 249us/step - loss: 0.0762 - acc: 0.9753 - val_loss: 3.8305 - val_acc: 0.5319\n",
      "Epoch 76/100\n",
      "50000/50000 [==============================] - 12s 248us/step - loss: 0.1041 - acc: 0.9663 - val_loss: 3.6642 - val_acc: 0.5318\n",
      "Epoch 77/100\n",
      "50000/50000 [==============================] - 12s 247us/step - loss: 0.0761 - acc: 0.9753 - val_loss: 3.7709 - val_acc: 0.5258\n",
      "Epoch 78/100\n",
      "50000/50000 [==============================] - 12s 248us/step - loss: 0.0779 - acc: 0.9741 - val_loss: 3.8972 - val_acc: 0.5309\n",
      "Epoch 79/100\n",
      "50000/50000 [==============================] - 12s 250us/step - loss: 0.0896 - acc: 0.9713 - val_loss: 3.7452 - val_acc: 0.5280\n",
      "Epoch 80/100\n",
      "50000/50000 [==============================] - 12s 250us/step - loss: 0.0757 - acc: 0.9751 - val_loss: 3.8559 - val_acc: 0.5324\n",
      "Epoch 81/100\n",
      "50000/50000 [==============================] - 12s 248us/step - loss: 0.0856 - acc: 0.9726 - val_loss: 3.7746 - val_acc: 0.5254\n",
      "Epoch 82/100\n",
      "50000/50000 [==============================] - 12s 249us/step - loss: 0.0720 - acc: 0.9766 - val_loss: 3.8810 - val_acc: 0.5274\n",
      "Epoch 83/100\n",
      "50000/50000 [==============================] - 13s 250us/step - loss: 0.0828 - acc: 0.9734 - val_loss: 3.8033 - val_acc: 0.5319\n",
      "Epoch 84/100\n",
      "50000/50000 [==============================] - 13s 254us/step - loss: 0.0713 - acc: 0.9770 - val_loss: 3.9723 - val_acc: 0.5295\n",
      "Epoch 85/100\n",
      "50000/50000 [==============================] - 12s 249us/step - loss: 0.0820 - acc: 0.9736 - val_loss: 3.7752 - val_acc: 0.5226\n",
      "Epoch 86/100\n",
      "50000/50000 [==============================] - 12s 249us/step - loss: 0.0771 - acc: 0.9750 - val_loss: 3.7495 - val_acc: 0.5240\n",
      "Epoch 87/100\n",
      "50000/50000 [==============================] - 12s 250us/step - loss: 0.0721 - acc: 0.9775 - val_loss: 3.8634 - val_acc: 0.5239\n",
      "Epoch 88/100\n",
      "50000/50000 [==============================] - 12s 249us/step - loss: 0.0866 - acc: 0.9725 - val_loss: 3.6778 - val_acc: 0.5324\n",
      "Epoch 89/100\n",
      "50000/50000 [==============================] - 12s 248us/step - loss: 0.0634 - acc: 0.9796 - val_loss: 4.0347 - val_acc: 0.5204\n",
      "Epoch 90/100\n",
      "50000/50000 [==============================] - 12s 249us/step - loss: 0.0746 - acc: 0.9751 - val_loss: 3.9256 - val_acc: 0.5160\n",
      "Epoch 91/100\n",
      "50000/50000 [==============================] - 12s 248us/step - loss: 0.0821 - acc: 0.9738 - val_loss: 3.7977 - val_acc: 0.5253\n",
      "Epoch 92/100\n",
      "50000/50000 [==============================] - 12s 249us/step - loss: 0.0726 - acc: 0.9764 - val_loss: 3.8863 - val_acc: 0.5302\n",
      "Epoch 93/100\n",
      "50000/50000 [==============================] - 13s 251us/step - loss: 0.0714 - acc: 0.9775 - val_loss: 3.7373 - val_acc: 0.5290\n",
      "Epoch 94/100\n",
      "50000/50000 [==============================] - 13s 250us/step - loss: 0.0670 - acc: 0.9783 - val_loss: 3.8570 - val_acc: 0.5273\n",
      "Epoch 95/100\n",
      "50000/50000 [==============================] - 12s 248us/step - loss: 0.0708 - acc: 0.9780 - val_loss: 3.8222 - val_acc: 0.5309\n",
      "Epoch 96/100\n",
      "50000/50000 [==============================] - 12s 247us/step - loss: 0.0656 - acc: 0.9784 - val_loss: 3.8528 - val_acc: 0.5338\n",
      "Epoch 97/100\n",
      "50000/50000 [==============================] - 12s 248us/step - loss: 0.0724 - acc: 0.9764 - val_loss: 3.8231 - val_acc: 0.5285\n",
      "Epoch 98/100\n",
      "50000/50000 [==============================] - 13s 254us/step - loss: 0.0688 - acc: 0.9781 - val_loss: 3.8302 - val_acc: 0.5337\n",
      "Epoch 99/100\n",
      "50000/50000 [==============================] - 12s 248us/step - loss: 0.0690 - acc: 0.9780 - val_loss: 3.8281 - val_acc: 0.5269\n",
      "Epoch 100/100\n",
      "50000/50000 [==============================] - 12s 246us/step - loss: 0.0689 - acc: 0.9787 - val_loss: 3.9032 - val_acc: 0.5239\n"
     ]
    },
    {
     "data": {
      "text/plain": [
       "<keras.callbacks.History at 0x182e8b0080>"
      ]
     },
     "execution_count": 10,
     "metadata": {},
     "output_type": "execute_result"
    }
   ],
   "source": [
    "model.fit(x_train, y_train, \n",
    "          epochs=EPOCHS, \n",
    "          batch_size=BATCH_SIZE, \n",
    "          validation_data=(x_test, y_test), \n",
    "          shuffle=True)"
   ]
  },
  {
   "cell_type": "code",
   "execution_count": 11,
   "metadata": {},
   "outputs": [
    {
     "data": {
      "image/png": "[encoded data removed]",
      "text/plain": [
       "<matplotlib.figure.Figure at 0x182f460e10>"
      ]
     },
     "metadata": {},
     "output_type": "display_data"
    },
    {
     "data": {
      "image/png": "[encoded data removed]",
      "text/plain": [
       "<matplotlib.figure.Figure at 0x182e476dd8>"
      ]
     },
     "metadata": {},
     "output_type": "display_data"
    }
   ],
   "source": [
    "import matplotlib.pyplot as plt\n",
    "\n",
    "\n",
    "train_loss = model.history.history[\"loss\"]\n",
    "valid_loss = model.history.history[\"val_loss\"]\n",
    "\n",
    "train_acc = model.history.history[\"acc\"]\n",
    "valid_acc = model.history.history[\"val_acc\"]\n",
    "\n",
    "plt.plot(range(len(train_loss)), train_loss, label=\"train loss\")\n",
    "plt.plot(range(len(valid_loss)), valid_loss, label=\"valid loss\")\n",
    "plt.legend()\n",
    "plt.title(\"Loss\")\n",
    "plt.show()\n",
    "\n",
    "plt.plot(range(len(train_acc)), train_acc, label=\"train accuracy\")\n",
    "plt.plot(range(len(valid_acc)), valid_acc, label=\"valid accuracy\")\n",
    "plt.legend()\n",
    "plt.title(\"Accuracy\")\n",
    "plt.show()"
   ]
  }
 ],
 "metadata": {
  "kernelspec": {
   "display_name": "Python 3",
   "language": "python",
   "name": "python3"
  },
  "language_info": {
   "codemirror_mode": {
    "name": "ipython",
    "version": 3
   },
   "file_extension": ".py",
   "mimetype": "text/x-python",
   "name": "python",
   "nbconvert_exporter": "python",
   "pygments_lexer": "ipython3",
   "version": "3.6.8"
  }
 },
 "nbformat": 4,
 "nbformat_minor": 2
}
