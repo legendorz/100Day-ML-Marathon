{
 "cells": [
  {
   "cell_type": "code",
   "execution_count": 1,
   "metadata": {
    "collapsed": true
   },
   "outputs": [],
   "source": [
    "import os\n",
    "import pandas as pd\n",
    "import numpy as np\n",
    "import matplotlib.pyplot as plt\n",
    "import seaborn as sns\n",
    "from sklearn.preprocessing import Imputer, MinMaxScaler, StandardScaler\n",
    "from sklearn.model_selection import cross_val_score\n",
    "from sklearn.linear_model import LogisticRegression\n",
    "from sklearn.ensemble import GradientBoostingClassifier\n",
    "from sklearn.model_selection import train_test_split\n",
    "from sklearn import metrics\n",
    "%matplotlib inline\n",
    "\n",
    "import warnings\n",
    "warnings.filterwarnings('ignore')"
   ]
  },
  {
   "cell_type": "code",
   "execution_count": 2,
   "metadata": {
    "collapsed": true,
    "scrolled": true
   },
   "outputs": [],
   "source": [
    "# 設定 data_path, 並讀取 app_train\n",
    "data_path = './data/'\n",
    "df_train = pd.read_csv(data_path + 'train_data.csv')\n",
    "df_test = pd.read_csv(data_path + 'test_features.csv')\n",
    "names = df_test['name']\n",
    "train_Y = df_train['poi']\n",
    "df_train = df_train.drop(['name', 'poi'] , axis=1)\n",
    "df_test = df_test.drop(['name'] , axis=1)\n",
    "df = pd.concat([df_train,df_test])"
   ]
  },
  {
   "cell_type": "code",
   "execution_count": 3,
   "metadata": {},
   "outputs": [
    {
     "name": "stdout",
     "output_type": "stream",
     "text": [
      "19 Numeric Features : ['bonus', 'deferral_payments', 'deferred_income', 'director_fees', 'exercised_stock_options', 'expenses', 'from_messages', 'from_poi_to_this_person', 'from_this_person_to_poi', 'loan_advances', 'long_term_incentive', 'other', 'restricted_stock', 'restricted_stock_deferred', 'salary', 'shared_receipt_with_poi', 'to_messages', 'total_payments', 'total_stock_value']\n",
      "\n"
     ]
    }
   ],
   "source": [
    "#只取 int64, float64 兩種數值型欄位, 存於 num_features 中\n",
    "num_features = []\n",
    "for dtype, feature in zip(df.dtypes, df.columns):\n",
    "    if dtype == 'float64' or dtype == 'int64':\n",
    "        num_features.append(feature)\n",
    "print(f'{len(num_features)} Numeric Features : {num_features}\\n')"
   ]
  },
  {
   "cell_type": "code",
   "execution_count": 4,
   "metadata": {
    "collapsed": true
   },
   "outputs": [],
   "source": [
    "# 削減文字型欄位, 只剩數值型欄位(拿掉email欄位)\n",
    "df = df[num_features]\n",
    "df_test2 = df_test[num_features]"
   ]
  },
  {
   "cell_type": "code",
   "execution_count": 5,
   "metadata": {
    "scrolled": true
   },
   "outputs": [
    {
     "data": {
      "text/html": [
       "<div>\n",
       "<style>\n",
       "    .dataframe thead tr:only-child th {\n",
       "        text-align: right;\n",
       "    }\n",
       "\n",
       "    .dataframe thead th {\n",
       "        text-align: left;\n",
       "    }\n",
       "\n",
       "    .dataframe tbody tr th {\n",
       "        vertical-align: top;\n",
       "    }\n",
       "</style>\n",
       "<table border=\"1\" class=\"dataframe\">\n",
       "  <thead>\n",
       "    <tr style=\"text-align: right;\">\n",
       "      <th></th>\n",
       "      <th>bonus</th>\n",
       "      <th>deferral_payments</th>\n",
       "      <th>deferred_income</th>\n",
       "      <th>director_fees</th>\n",
       "      <th>exercised_stock_options</th>\n",
       "      <th>expenses</th>\n",
       "      <th>from_messages</th>\n",
       "      <th>from_poi_to_this_person</th>\n",
       "      <th>from_this_person_to_poi</th>\n",
       "      <th>loan_advances</th>\n",
       "      <th>long_term_incentive</th>\n",
       "      <th>other</th>\n",
       "      <th>restricted_stock</th>\n",
       "      <th>restricted_stock_deferred</th>\n",
       "      <th>salary</th>\n",
       "      <th>shared_receipt_with_poi</th>\n",
       "      <th>to_messages</th>\n",
       "      <th>total_payments</th>\n",
       "      <th>total_stock_value</th>\n",
       "    </tr>\n",
       "  </thead>\n",
       "  <tbody>\n",
       "    <tr>\n",
       "      <th>count</th>\n",
       "      <td>8.200000e+01</td>\n",
       "      <td>3.900000e+01</td>\n",
       "      <td>4.900000e+01</td>\n",
       "      <td>1.700000e+01</td>\n",
       "      <td>1.020000e+02</td>\n",
       "      <td>9.500000e+01</td>\n",
       "      <td>86.000000</td>\n",
       "      <td>86.000000</td>\n",
       "      <td>86.000000</td>\n",
       "      <td>4.000000e+00</td>\n",
       "      <td>6.600000e+01</td>\n",
       "      <td>9.300000e+01</td>\n",
       "      <td>1.100000e+02</td>\n",
       "      <td>1.800000e+01</td>\n",
       "      <td>9.500000e+01</td>\n",
       "      <td>86.000000</td>\n",
       "      <td>86.000000</td>\n",
       "      <td>1.250000e+02</td>\n",
       "      <td>1.260000e+02</td>\n",
       "    </tr>\n",
       "    <tr>\n",
       "      <th>mean</th>\n",
       "      <td>2.374235e+06</td>\n",
       "      <td>1.642674e+06</td>\n",
       "      <td>-1.140475e+06</td>\n",
       "      <td>1.668049e+05</td>\n",
       "      <td>5.987054e+06</td>\n",
       "      <td>1.087289e+05</td>\n",
       "      <td>608.790698</td>\n",
       "      <td>64.895349</td>\n",
       "      <td>41.232558</td>\n",
       "      <td>4.196250e+07</td>\n",
       "      <td>1.470361e+06</td>\n",
       "      <td>9.190650e+05</td>\n",
       "      <td>2.321741e+06</td>\n",
       "      <td>1.664106e+05</td>\n",
       "      <td>5.621943e+05</td>\n",
       "      <td>1176.465116</td>\n",
       "      <td>2073.860465</td>\n",
       "      <td>5.081526e+06</td>\n",
       "      <td>6.773957e+06</td>\n",
       "    </tr>\n",
       "    <tr>\n",
       "      <th>std</th>\n",
       "      <td>1.071333e+07</td>\n",
       "      <td>5.161930e+06</td>\n",
       "      <td>4.025406e+06</td>\n",
       "      <td>3.198914e+05</td>\n",
       "      <td>3.106201e+07</td>\n",
       "      <td>5.335348e+05</td>\n",
       "      <td>1841.033949</td>\n",
       "      <td>86.979244</td>\n",
       "      <td>100.073111</td>\n",
       "      <td>4.708321e+07</td>\n",
       "      <td>5.942759e+06</td>\n",
       "      <td>4.589253e+06</td>\n",
       "      <td>1.251828e+07</td>\n",
       "      <td>4.201494e+06</td>\n",
       "      <td>2.716369e+06</td>\n",
       "      <td>1178.317641</td>\n",
       "      <td>2582.700981</td>\n",
       "      <td>2.906172e+07</td>\n",
       "      <td>3.895777e+07</td>\n",
       "    </tr>\n",
       "    <tr>\n",
       "      <th>min</th>\n",
       "      <td>7.000000e+04</td>\n",
       "      <td>-1.025000e+05</td>\n",
       "      <td>-2.799289e+07</td>\n",
       "      <td>3.285000e+03</td>\n",
       "      <td>3.285000e+03</td>\n",
       "      <td>1.480000e+02</td>\n",
       "      <td>12.000000</td>\n",
       "      <td>0.000000</td>\n",
       "      <td>0.000000</td>\n",
       "      <td>4.000000e+05</td>\n",
       "      <td>6.922300e+04</td>\n",
       "      <td>2.000000e+00</td>\n",
       "      <td>-2.604490e+06</td>\n",
       "      <td>-7.576788e+06</td>\n",
       "      <td>4.770000e+02</td>\n",
       "      <td>2.000000</td>\n",
       "      <td>57.000000</td>\n",
       "      <td>1.480000e+02</td>\n",
       "      <td>-4.409300e+04</td>\n",
       "    </tr>\n",
       "    <tr>\n",
       "      <th>25%</th>\n",
       "      <td>4.312500e+05</td>\n",
       "      <td>8.157300e+04</td>\n",
       "      <td>-6.948620e+05</td>\n",
       "      <td>9.878400e+04</td>\n",
       "      <td>5.278862e+05</td>\n",
       "      <td>2.261400e+04</td>\n",
       "      <td>22.750000</td>\n",
       "      <td>10.000000</td>\n",
       "      <td>1.000000</td>\n",
       "      <td>1.600000e+06</td>\n",
       "      <td>2.812500e+05</td>\n",
       "      <td>1.215000e+03</td>\n",
       "      <td>2.540180e+05</td>\n",
       "      <td>-3.896218e+05</td>\n",
       "      <td>2.118160e+05</td>\n",
       "      <td>249.750000</td>\n",
       "      <td>541.250000</td>\n",
       "      <td>3.944750e+05</td>\n",
       "      <td>4.945102e+05</td>\n",
       "    </tr>\n",
       "    <tr>\n",
       "      <th>50%</th>\n",
       "      <td>7.693750e+05</td>\n",
       "      <td>2.274490e+05</td>\n",
       "      <td>-1.597920e+05</td>\n",
       "      <td>1.085790e+05</td>\n",
       "      <td>1.310814e+06</td>\n",
       "      <td>4.695000e+04</td>\n",
       "      <td>41.000000</td>\n",
       "      <td>35.000000</td>\n",
       "      <td>8.000000</td>\n",
       "      <td>4.176250e+07</td>\n",
       "      <td>4.420350e+05</td>\n",
       "      <td>5.238200e+04</td>\n",
       "      <td>4.517400e+05</td>\n",
       "      <td>-1.469750e+05</td>\n",
       "      <td>2.599960e+05</td>\n",
       "      <td>740.500000</td>\n",
       "      <td>1211.000000</td>\n",
       "      <td>1.101393e+06</td>\n",
       "      <td>1.102872e+06</td>\n",
       "    </tr>\n",
       "    <tr>\n",
       "      <th>75%</th>\n",
       "      <td>1.200000e+06</td>\n",
       "      <td>1.002672e+06</td>\n",
       "      <td>-3.834600e+04</td>\n",
       "      <td>1.137840e+05</td>\n",
       "      <td>2.547724e+06</td>\n",
       "      <td>7.995250e+04</td>\n",
       "      <td>145.500000</td>\n",
       "      <td>72.250000</td>\n",
       "      <td>24.750000</td>\n",
       "      <td>8.212500e+07</td>\n",
       "      <td>9.386720e+05</td>\n",
       "      <td>3.620960e+05</td>\n",
       "      <td>1.002370e+06</td>\n",
       "      <td>-7.500975e+04</td>\n",
       "      <td>3.121170e+05</td>\n",
       "      <td>1888.250000</td>\n",
       "      <td>2634.750000</td>\n",
       "      <td>2.093263e+06</td>\n",
       "      <td>2.949847e+06</td>\n",
       "    </tr>\n",
       "    <tr>\n",
       "      <th>max</th>\n",
       "      <td>9.734362e+07</td>\n",
       "      <td>3.208340e+07</td>\n",
       "      <td>-8.330000e+02</td>\n",
       "      <td>1.398517e+06</td>\n",
       "      <td>3.117640e+08</td>\n",
       "      <td>5.235198e+06</td>\n",
       "      <td>14368.000000</td>\n",
       "      <td>528.000000</td>\n",
       "      <td>609.000000</td>\n",
       "      <td>8.392500e+07</td>\n",
       "      <td>4.852193e+07</td>\n",
       "      <td>4.266759e+07</td>\n",
       "      <td>1.303223e+08</td>\n",
       "      <td>1.545629e+07</td>\n",
       "      <td>2.670423e+07</td>\n",
       "      <td>5521.000000</td>\n",
       "      <td>15149.000000</td>\n",
       "      <td>3.098866e+08</td>\n",
       "      <td>4.345095e+08</td>\n",
       "    </tr>\n",
       "  </tbody>\n",
       "</table>\n",
       "</div>"
      ],
      "text/plain": [
       "              bonus  deferral_payments  deferred_income  director_fees  \\\n",
       "count  8.200000e+01       3.900000e+01     4.900000e+01   1.700000e+01   \n",
       "mean   2.374235e+06       1.642674e+06    -1.140475e+06   1.668049e+05   \n",
       "std    1.071333e+07       5.161930e+06     4.025406e+06   3.198914e+05   \n",
       "min    7.000000e+04      -1.025000e+05    -2.799289e+07   3.285000e+03   \n",
       "25%    4.312500e+05       8.157300e+04    -6.948620e+05   9.878400e+04   \n",
       "50%    7.693750e+05       2.274490e+05    -1.597920e+05   1.085790e+05   \n",
       "75%    1.200000e+06       1.002672e+06    -3.834600e+04   1.137840e+05   \n",
       "max    9.734362e+07       3.208340e+07    -8.330000e+02   1.398517e+06   \n",
       "\n",
       "       exercised_stock_options      expenses  from_messages  \\\n",
       "count             1.020000e+02  9.500000e+01      86.000000   \n",
       "mean              5.987054e+06  1.087289e+05     608.790698   \n",
       "std               3.106201e+07  5.335348e+05    1841.033949   \n",
       "min               3.285000e+03  1.480000e+02      12.000000   \n",
       "25%               5.278862e+05  2.261400e+04      22.750000   \n",
       "50%               1.310814e+06  4.695000e+04      41.000000   \n",
       "75%               2.547724e+06  7.995250e+04     145.500000   \n",
       "max               3.117640e+08  5.235198e+06   14368.000000   \n",
       "\n",
       "       from_poi_to_this_person  from_this_person_to_poi  loan_advances  \\\n",
       "count                86.000000                86.000000   4.000000e+00   \n",
       "mean                 64.895349                41.232558   4.196250e+07   \n",
       "std                  86.979244               100.073111   4.708321e+07   \n",
       "min                   0.000000                 0.000000   4.000000e+05   \n",
       "25%                  10.000000                 1.000000   1.600000e+06   \n",
       "50%                  35.000000                 8.000000   4.176250e+07   \n",
       "75%                  72.250000                24.750000   8.212500e+07   \n",
       "max                 528.000000               609.000000   8.392500e+07   \n",
       "\n",
       "       long_term_incentive         other  restricted_stock  \\\n",
       "count         6.600000e+01  9.300000e+01      1.100000e+02   \n",
       "mean          1.470361e+06  9.190650e+05      2.321741e+06   \n",
       "std           5.942759e+06  4.589253e+06      1.251828e+07   \n",
       "min           6.922300e+04  2.000000e+00     -2.604490e+06   \n",
       "25%           2.812500e+05  1.215000e+03      2.540180e+05   \n",
       "50%           4.420350e+05  5.238200e+04      4.517400e+05   \n",
       "75%           9.386720e+05  3.620960e+05      1.002370e+06   \n",
       "max           4.852193e+07  4.266759e+07      1.303223e+08   \n",
       "\n",
       "       restricted_stock_deferred        salary  shared_receipt_with_poi  \\\n",
       "count               1.800000e+01  9.500000e+01                86.000000   \n",
       "mean                1.664106e+05  5.621943e+05              1176.465116   \n",
       "std                 4.201494e+06  2.716369e+06              1178.317641   \n",
       "min                -7.576788e+06  4.770000e+02                 2.000000   \n",
       "25%                -3.896218e+05  2.118160e+05               249.750000   \n",
       "50%                -1.469750e+05  2.599960e+05               740.500000   \n",
       "75%                -7.500975e+04  3.121170e+05              1888.250000   \n",
       "max                 1.545629e+07  2.670423e+07              5521.000000   \n",
       "\n",
       "        to_messages  total_payments  total_stock_value  \n",
       "count     86.000000    1.250000e+02       1.260000e+02  \n",
       "mean    2073.860465    5.081526e+06       6.773957e+06  \n",
       "std     2582.700981    2.906172e+07       3.895777e+07  \n",
       "min       57.000000    1.480000e+02      -4.409300e+04  \n",
       "25%      541.250000    3.944750e+05       4.945102e+05  \n",
       "50%     1211.000000    1.101393e+06       1.102872e+06  \n",
       "75%     2634.750000    2.093263e+06       2.949847e+06  \n",
       "max    15149.000000    3.098866e+08       4.345095e+08  "
      ]
     },
     "execution_count": 5,
     "metadata": {},
     "output_type": "execute_result"
    }
   ],
   "source": [
    "df.describe()"
   ]
  },
  {
   "cell_type": "code",
   "execution_count": 6,
   "metadata": {},
   "outputs": [
    {
     "name": "stdout",
     "output_type": "stream",
     "text": [
      "bonus 44.0 %\n",
      "deferral_payments 73.0 %\n",
      "deferred_income 66.0 %\n",
      "director_fees 88.0 %\n",
      "exercised_stock_options 30.0 %\n",
      "expenses 35.0 %\n",
      "from_messages 41.0 %\n",
      "from_poi_to_this_person 41.0 %\n",
      "from_this_person_to_poi 41.0 %\n",
      "loan_advances 97.0 %\n",
      "long_term_incentive 55.0 %\n",
      "other 36.0 %\n",
      "restricted_stock 25.0 %\n",
      "restricted_stock_deferred 88.0 %\n",
      "salary 35.0 %\n",
      "shared_receipt_with_poi 41.0 %\n",
      "to_messages 41.0 %\n",
      "total_payments 14.0 %\n",
      "total_stock_value 14.0 %\n"
     ]
    }
   ],
   "source": [
    "#計算遺失值比率\n",
    "def get_percentage_missing(df):\n",
    "    num = df.isnull().sum()\n",
    "    den = len(df)\n",
    "    return round(num/den, 2)\n",
    "\n",
    "for col in num_features:\n",
    "    print(col, get_percentage_missing(df[col])*100, '%')\n",
    "#排除遺失值超過5成的變數\n",
    "drop_col = []\n",
    "for col in num_features:\n",
    "    if get_percentage_missing(df[col]) > 0.5:\n",
    "        drop_col.append(col)\n",
    "        \n",
    "df_drop = df.drop(drop_col, axis = 1)"
   ]
  },
  {
   "cell_type": "code",
   "execution_count": 7,
   "metadata": {},
   "outputs": [
    {
     "name": "stdout",
     "output_type": "stream",
     "text": [
      "bonus 44.0 %\n",
      "exercised_stock_options 30.0 %\n",
      "expenses 35.0 %\n",
      "from_messages 41.0 %\n",
      "from_poi_to_this_person 41.0 %\n",
      "from_this_person_to_poi 41.0 %\n",
      "other 36.0 %\n",
      "restricted_stock 25.0 %\n",
      "salary 35.0 %\n",
      "shared_receipt_with_poi 41.0 %\n",
      "to_messages 41.0 %\n",
      "total_payments 14.0 %\n",
      "total_stock_value 14.0 %\n"
     ]
    }
   ],
   "source": [
    "for col in df_drop.columns:\n",
    "    print(col, get_percentage_missing(df_drop[col])*100, '%')"
   ]
  },
  {
   "cell_type": "code",
   "execution_count": 13,
   "metadata": {
    "scrolled": true
   },
   "outputs": [
    {
     "data": {
      "image/png": "[encoded data removed]",
      "text/plain": [
       "<matplotlib.figure.Figure at 0x1a1fa41908>"
      ]
     },
     "metadata": {},
     "output_type": "display_data"
    },
    {
     "data": {
      "image/png": "[encoded data removed]",
      "text/plain": [
       "<matplotlib.figure.Figure at 0x1a1fa66668>"
      ]
     },
     "metadata": {},
     "output_type": "display_data"
    },
    {
     "data": {
      "image/png": "[encoded data removed]",
      "text/plain": [
       "<matplotlib.figure.Figure at 0x1a1f996b38>"
      ]
     },
     "metadata": {},
     "output_type": "display_data"
    },
    {
     "data": {
      "image/png": "[encoded data removed]",
      "text/plain": [
       "<matplotlib.figure.Figure at 0x1a1fbb7160>"
      ]
     },
     "metadata": {},
     "output_type": "display_data"
    },
    {
     "data": {
      "image/png": "[encoded data removed]",
      "text/plain": [
       "<matplotlib.figure.Figure at 0x1a1fc98a20>"
      ]
     },
     "metadata": {},
     "output_type": "display_data"
    },
    {
     "data": {
      "image/png": "[encoded data removed]",
      "text/plain": [
       "<matplotlib.figure.Figure at 0x1a1f841160>"
      ]
     },
     "metadata": {},
     "output_type": "display_data"
    },
    {
     "data": {
      "image/png": "[encoded data removed]",
      "text/plain": [
       "<matplotlib.figure.Figure at 0x1a1fa41b00>"
      ]
     },
     "metadata": {},
     "output_type": "display_data"
    },
    {
     "data": {
      "image/png": "[encoded data removed]",
      "text/plain": [
       "<matplotlib.figure.Figure at 0x1a1bfda780>"
      ]
     },
     "metadata": {},
     "output_type": "display_data"
    },
    {
     "data": {
      "image/png": "[encoded data removed]",
      "text/plain": [
       "<matplotlib.figure.Figure at 0x1a1f818dd8>"
      ]
     },
     "metadata": {},
     "output_type": "display_data"
    },
    {
     "data": {
      "image/png": "[encoded data removed]",
      "text/plain": [
       "<matplotlib.figure.Figure at 0x1a1f9bde80>"
      ]
     },
     "metadata": {},
     "output_type": "display_data"
    },
    {
     "data": {
      "image/png": "[encoded data removed]",
      "text/plain": [
       "<matplotlib.figure.Figure at 0x1a1fa90cc0>"
      ]
     },
     "metadata": {},
     "output_type": "display_data"
    },
    {
     "data": {
      "image/png": "[encoded data removed]",
      "text/plain": [
       "<matplotlib.figure.Figure at 0x1a1fa69320>"
      ]
     },
     "metadata": {},
     "output_type": "display_data"
    },
    {
     "data": {
      "image/png": "[encoded data removed]",
      "text/plain": [
       "<matplotlib.figure.Figure at 0x1a1fa59fd0>"
      ]
     },
     "metadata": {},
     "output_type": "display_data"
    }
   ],
   "source": [
    "for col in df_drop.columns:\n",
    "    df_drop.boxplot(column=col)\n",
    "    plt.show()"
   ]
  },
  {
   "cell_type": "code",
   "execution_count": 11,
   "metadata": {
    "collapsed": true
   },
   "outputs": [],
   "source": [
    "#drop掉bonus==97343619的那一筆資料（很明顯是煙霧彈 name是Total）\n",
    "df_drop_bonus = df_drop[df_drop['bonus'] != df_drop['bonus'].max()]\n",
    "#from_messages有一筆14,368但不確定是否為誤植\n",
    "#from_poi_to_this_person有一筆528但不確定是否為誤植\n",
    "#第8筆資料在payments方面都有很大的值，果然是詐欺犯"
   ]
  },
  {
   "cell_type": "markdown",
   "metadata": {},
   "source": [
    "## 處理NA值"
   ]
  },
  {
   "cell_type": "code",
   "execution_count": 14,
   "metadata": {
    "collapsed": true,
    "scrolled": true
   },
   "outputs": [],
   "source": [
    "df_temp = df_drop_bonus.copy()\n",
    "##bonus, exercised_stock_options, other, restricted_stock, salary, total_payments, total_stock_value :以中位數取代NA值\n",
    "# Transform both training and testing data\n",
    "for col in df_temp.columns:\n",
    "    df_temp[col].fillna(df_temp[col].median(), inplace=True)\n",
    "    df_test2[col].fillna(df_temp[col].median(), inplace=True)\n",
    "##deferred_income(延遲收入):以0取代NA值\n",
    "#df_temp['deferred_income'].fillna(0, inplace=True)\n",
    "##loan_advances將有值的歸類為1其餘為0\n",
    "#df_temp['loan_advances'] = df_temp['loan_advances'].apply(lambda x: 0 if np.isnan(x) == True else 1)"
   ]
  },
  {
   "cell_type": "code",
   "execution_count": 32,
   "metadata": {},
   "outputs": [
    {
     "data": {
      "text/plain": [
       "SelectPercentile(percentile=5,\n",
       "         score_func=<function f_classif at 0x1a16b7dc80>)"
      ]
     },
     "execution_count": 32,
     "metadata": {},
     "output_type": "execute_result"
    }
   ],
   "source": [
    "#特徵變數篩選\n",
    "from sklearn.feature_selection import SelectPercentile, f_classif\n",
    "train_num = train_Y.shape[0]\n",
    "train_X = df_temp[:train_num]\n",
    "selectorDataset = train_X\n",
    "selectorLabel = train_Y\n",
    "\n",
    "# #############################################################################\n",
    "# Univariate feature selection with F-test for feature scoring\n",
    "# We use the default selection function: the 5% most significant features\n",
    "selector = SelectPercentile(f_classif, percentile=5)\n",
    "selector.fit(selectorDataset, selectorLabel)"
   ]
  },
  {
   "cell_type": "code",
   "execution_count": 16,
   "metadata": {},
   "outputs": [
    {
     "data": {
      "text/plain": [
       "<Container object of 13 artists>"
      ]
     },
     "execution_count": 16,
     "metadata": {},
     "output_type": "execute_result"
    },
    {
     "data": {
      "image/png": "[encoded data removed]",
      "text/plain": [
       "<matplotlib.figure.Figure at 0x1a1f900128>"
      ]
     },
     "metadata": {},
     "output_type": "display_data"
    }
   ],
   "source": [
    "## Plotting the features selection: \n",
    "X_indices = np.arange(selectorDataset.shape[-1])\n",
    "scores = -np.log10(selector.pvalues_)\n",
    "scores /= scores.max()\n",
    "plt.bar(X_indices, scores, width=.2,\n",
    "        label=r'Univariate score ($-Log(p_{value})$)', color='darkorange',\n",
    "        edgecolor='black')"
   ]
  },
  {
   "cell_type": "code",
   "execution_count": 45,
   "metadata": {},
   "outputs": [
    {
     "name": "stdout",
     "output_type": "stream",
     "text": [
      "bonus :  0.291615519005\n",
      "exercised_stock_options :  1.0\n",
      "expenses :  0.1253013628\n",
      "from_messages :  0.0582716968134\n",
      "from_poi_to_this_person :  0.0948353745809\n",
      "from_this_person_to_poi :  0.0362677910326\n",
      "other :  0.320865454913\n",
      "restricted_stock :  0.333176932087\n",
      "salary :  0.548670422918\n",
      "shared_receipt_with_poi :  0.0880430189244\n",
      "to_messages :  3.23243265397e-05\n",
      "total_payments :  0.344642536987\n",
      "total_stock_value :  0.866772020156\n"
     ]
    }
   ],
   "source": [
    "## Printing out the selected financial features: \n",
    "selectedFeatures = []  #'poi' must be the first one due to the evaluation methods defined by Udacity.\n",
    "for ix, pval in enumerate(scores):\n",
    "    print(train_X.columns[ix],': ',pval)\n",
    "    if (pval >= 0.3): #threshold定在0.3\n",
    "        selectedFeatures.append(train_X.columns[ix])"
   ]
  },
  {
   "cell_type": "code",
   "execution_count": 46,
   "metadata": {},
   "outputs": [
    {
     "data": {
      "text/plain": [
       "['exercised_stock_options',\n",
       " 'other',\n",
       " 'restricted_stock',\n",
       " 'salary',\n",
       " 'total_payments',\n",
       " 'total_stock_value']"
      ]
     },
     "execution_count": 46,
     "metadata": {},
     "output_type": "execute_result"
    }
   ],
   "source": [
    "selectedFeatures"
   ]
  },
  {
   "cell_type": "markdown",
   "metadata": {},
   "source": [
    "## 標準化變數"
   ]
  },
  {
   "cell_type": "code",
   "execution_count": 36,
   "metadata": {},
   "outputs": [],
   "source": [
    "from sklearn.preprocessing import MinMaxScaler\n",
    "\n",
    "scaler = MinMaxScaler()\n",
    "scaler.fit(train_X[selectedFeatures])\n",
    "train = scaler.transform(train_X[selectedFeatures])\n",
    "x_test = scaler.transform(df_test2[selectedFeatures])"
   ]
  },
  {
   "cell_type": "markdown",
   "metadata": {},
   "source": [
    "# GDBT"
   ]
  },
  {
   "cell_type": "code",
   "execution_count": 38,
   "metadata": {},
   "outputs": [],
   "source": [
    "# 建立模型\n",
    "clf = GradientBoostingClassifier()\n",
    "\n",
    "# 訓練模型\n",
    "clf.fit(train, train_Y)\n",
    "\n",
    "# 預測測試集\n",
    "y_pred = clf.predict_proba(x_test)"
   ]
  },
  {
   "cell_type": "code",
   "execution_count": 39,
   "metadata": {
    "scrolled": true
   },
   "outputs": [
    {
     "data": {
      "text/html": [
       "<div>\n",
       "<style>\n",
       "    .dataframe thead tr:only-child th {\n",
       "        text-align: right;\n",
       "    }\n",
       "\n",
       "    .dataframe thead th {\n",
       "        text-align: left;\n",
       "    }\n",
       "\n",
       "    .dataframe tbody tr th {\n",
       "        vertical-align: top;\n",
       "    }\n",
       "</style>\n",
       "<table border=\"1\" class=\"dataframe\">\n",
       "  <thead>\n",
       "    <tr style=\"text-align: right;\">\n",
       "      <th></th>\n",
       "      <th>name</th>\n",
       "      <th>poi</th>\n",
       "    </tr>\n",
       "  </thead>\n",
       "  <tbody>\n",
       "    <tr>\n",
       "      <th>0</th>\n",
       "      <td>BELDEN TIMOTHY N</td>\n",
       "      <td>0.031204</td>\n",
       "    </tr>\n",
       "    <tr>\n",
       "      <th>1</th>\n",
       "      <td>BOWEN JR RAYMOND M</td>\n",
       "      <td>0.961343</td>\n",
       "    </tr>\n",
       "    <tr>\n",
       "      <th>2</th>\n",
       "      <td>HANNON KEVIN P</td>\n",
       "      <td>0.412862</td>\n",
       "    </tr>\n",
       "    <tr>\n",
       "      <th>3</th>\n",
       "      <td>DELAINEY DAVID W</td>\n",
       "      <td>0.000818</td>\n",
       "    </tr>\n",
       "    <tr>\n",
       "      <th>4</th>\n",
       "      <td>CAUSEY RICHARD A</td>\n",
       "      <td>0.032444</td>\n",
       "    </tr>\n",
       "    <tr>\n",
       "      <th>5</th>\n",
       "      <td>HICKERSON GARY J</td>\n",
       "      <td>0.655216</td>\n",
       "    </tr>\n",
       "    <tr>\n",
       "      <th>6</th>\n",
       "      <td>FREVERT MARK A</td>\n",
       "      <td>0.179761</td>\n",
       "    </tr>\n",
       "    <tr>\n",
       "      <th>7</th>\n",
       "      <td>CHAN RONNIE</td>\n",
       "      <td>0.001736</td>\n",
       "    </tr>\n",
       "    <tr>\n",
       "      <th>8</th>\n",
       "      <td>DONAHUE JR JEFFREY M</td>\n",
       "      <td>0.002815</td>\n",
       "    </tr>\n",
       "    <tr>\n",
       "      <th>9</th>\n",
       "      <td>REYNOLDS LAWRENCE</td>\n",
       "      <td>0.044509</td>\n",
       "    </tr>\n",
       "    <tr>\n",
       "      <th>10</th>\n",
       "      <td>HORTON STANLEY C</td>\n",
       "      <td>0.001061</td>\n",
       "    </tr>\n",
       "    <tr>\n",
       "      <th>11</th>\n",
       "      <td>LEWIS RICHARD</td>\n",
       "      <td>0.000612</td>\n",
       "    </tr>\n",
       "    <tr>\n",
       "      <th>12</th>\n",
       "      <td>SHERRICK JEFFREY B</td>\n",
       "      <td>0.000612</td>\n",
       "    </tr>\n",
       "    <tr>\n",
       "      <th>13</th>\n",
       "      <td>MEYER JEROME J</td>\n",
       "      <td>0.000452</td>\n",
       "    </tr>\n",
       "    <tr>\n",
       "      <th>14</th>\n",
       "      <td>DERRICK JR. JAMES V</td>\n",
       "      <td>0.872366</td>\n",
       "    </tr>\n",
       "    <tr>\n",
       "      <th>15</th>\n",
       "      <td>PIRO JIM</td>\n",
       "      <td>0.001605</td>\n",
       "    </tr>\n",
       "    <tr>\n",
       "      <th>16</th>\n",
       "      <td>DETMERING TIMOTHY J</td>\n",
       "      <td>0.007509</td>\n",
       "    </tr>\n",
       "    <tr>\n",
       "      <th>17</th>\n",
       "      <td>KISHKILL JOSEPH G</td>\n",
       "      <td>0.064607</td>\n",
       "    </tr>\n",
       "    <tr>\n",
       "      <th>18</th>\n",
       "      <td>BAY FRANKLIN R</td>\n",
       "      <td>0.002294</td>\n",
       "    </tr>\n",
       "    <tr>\n",
       "      <th>19</th>\n",
       "      <td>PRENTICE JAMES</td>\n",
       "      <td>0.001282</td>\n",
       "    </tr>\n",
       "    <tr>\n",
       "      <th>20</th>\n",
       "      <td>TOTAL</td>\n",
       "      <td>0.992889</td>\n",
       "    </tr>\n",
       "    <tr>\n",
       "      <th>21</th>\n",
       "      <td>FALLON JAMES B</td>\n",
       "      <td>0.015822</td>\n",
       "    </tr>\n",
       "    <tr>\n",
       "      <th>22</th>\n",
       "      <td>METTS MARK</td>\n",
       "      <td>0.001288</td>\n",
       "    </tr>\n",
       "    <tr>\n",
       "      <th>23</th>\n",
       "      <td>WODRASKA JOHN</td>\n",
       "      <td>0.011477</td>\n",
       "    </tr>\n",
       "    <tr>\n",
       "      <th>24</th>\n",
       "      <td>MORDAUNT KRISTINA M</td>\n",
       "      <td>0.001655</td>\n",
       "    </tr>\n",
       "    <tr>\n",
       "      <th>25</th>\n",
       "      <td>CARTER REBECCA C</td>\n",
       "      <td>0.001218</td>\n",
       "    </tr>\n",
       "    <tr>\n",
       "      <th>26</th>\n",
       "      <td>BHATNAGAR SANJAY</td>\n",
       "      <td>0.056023</td>\n",
       "    </tr>\n",
       "    <tr>\n",
       "      <th>27</th>\n",
       "      <td>WALTERS GARETH W</td>\n",
       "      <td>0.000452</td>\n",
       "    </tr>\n",
       "    <tr>\n",
       "      <th>28</th>\n",
       "      <td>BIBI PHILIPPE A</td>\n",
       "      <td>0.008536</td>\n",
       "    </tr>\n",
       "    <tr>\n",
       "      <th>29</th>\n",
       "      <td>SHERRIFF JOHN R</td>\n",
       "      <td>0.001491</td>\n",
       "    </tr>\n",
       "    <tr>\n",
       "      <th>30</th>\n",
       "      <td>GIBBS DANA R</td>\n",
       "      <td>0.001352</td>\n",
       "    </tr>\n",
       "    <tr>\n",
       "      <th>31</th>\n",
       "      <td>LINDHOLM TOD A</td>\n",
       "      <td>0.003513</td>\n",
       "    </tr>\n",
       "    <tr>\n",
       "      <th>32</th>\n",
       "      <td>MCMAHON JEFFREY</td>\n",
       "      <td>0.018227</td>\n",
       "    </tr>\n",
       "  </tbody>\n",
       "</table>\n",
       "</div>"
      ],
      "text/plain": [
       "                    name       poi\n",
       "0       BELDEN TIMOTHY N  0.031204\n",
       "1     BOWEN JR RAYMOND M  0.961343\n",
       "2         HANNON KEVIN P  0.412862\n",
       "3       DELAINEY DAVID W  0.000818\n",
       "4       CAUSEY RICHARD A  0.032444\n",
       "5       HICKERSON GARY J  0.655216\n",
       "6         FREVERT MARK A  0.179761\n",
       "7            CHAN RONNIE  0.001736\n",
       "8   DONAHUE JR JEFFREY M  0.002815\n",
       "9      REYNOLDS LAWRENCE  0.044509\n",
       "10      HORTON STANLEY C  0.001061\n",
       "11         LEWIS RICHARD  0.000612\n",
       "12    SHERRICK JEFFREY B  0.000612\n",
       "13        MEYER JEROME J  0.000452\n",
       "14   DERRICK JR. JAMES V  0.872366\n",
       "15              PIRO JIM  0.001605\n",
       "16   DETMERING TIMOTHY J  0.007509\n",
       "17     KISHKILL JOSEPH G  0.064607\n",
       "18        BAY FRANKLIN R  0.002294\n",
       "19        PRENTICE JAMES  0.001282\n",
       "20                 TOTAL  0.992889\n",
       "21        FALLON JAMES B  0.015822\n",
       "22            METTS MARK  0.001288\n",
       "23         WODRASKA JOHN  0.011477\n",
       "24   MORDAUNT KRISTINA M  0.001655\n",
       "25      CARTER REBECCA C  0.001218\n",
       "26      BHATNAGAR SANJAY  0.056023\n",
       "27      WALTERS GARETH W  0.000452\n",
       "28       BIBI PHILIPPE A  0.008536\n",
       "29       SHERRIFF JOHN R  0.001491\n",
       "30          GIBBS DANA R  0.001352\n",
       "31        LINDHOLM TOD A  0.003513\n",
       "32       MCMAHON JEFFREY  0.018227"
      ]
     },
     "execution_count": 39,
     "metadata": {},
     "output_type": "execute_result"
    }
   ],
   "source": [
    "# Submission dataframe\n",
    "submit = pd.DataFrame()\n",
    "submit['name'] = names\n",
    "submit['poi'] = y_pred[:,1]\n",
    "submit"
   ]
  },
  {
   "cell_type": "code",
   "execution_count": 40,
   "metadata": {
    "collapsed": true
   },
   "outputs": [],
   "source": [
    "submit.to_csv('submission.csv', index=False)"
   ]
  }
 ],
 "metadata": {
  "kernelspec": {
   "display_name": "Python 3",
   "language": "python",
   "name": "python3"
  },
  "language_info": {
   "codemirror_mode": {
    "name": "ipython",
    "version": 3
   },
   "file_extension": ".py",
   "mimetype": "text/x-python",
   "name": "python",
   "nbconvert_exporter": "python",
   "pygments_lexer": "ipython3",
   "version": "3.6.8"
  }
 },
 "nbformat": 4,
 "nbformat_minor": 2
}
