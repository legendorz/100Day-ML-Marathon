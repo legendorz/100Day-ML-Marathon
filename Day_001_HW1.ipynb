{
 "cells": [
  {
   "cell_type": "markdown",
   "metadata": {},
   "source": [
    "# 作業1：\n",
    "\n",
    "## 請上 Kaggle, 在 Competitions 或 Dataset 中找一組競賽或資料並寫下：\n",
    "\n",
    "\n",
    "### 1. 你選的這組資料為何重要\n",
    "    我選擇的資料是Home Credit Default Risk，由於之前和同事有參與過這場比賽，然而後來因為工作繁忙的因素，中途中斷了比賽，事後覺得蠻可惜的，希望投過這次百日機器學習重拾當時參與這場比賽的熱情，並接續之前所做的分析。\n",
    "    \n",
    "###  2. 資料從何而來 (tips: 譬如提供者是誰、以什麼方式蒐集)\n",
    "    資料是從Kaggle競賽而來，資料提供者是HOME CREDIT GROUP，HOME CREDIT GROUP是間國際企業公司遍佈於10個國家，主要是做個人信用貸款，旨在讓一些無法從銀行借貸資金的人即使沒有信用之下仍能提供貸款幫助該客戶，\n",
    "\n",
    "###  3. 蒐集而來的資料型態為何\n",
    "    結構化資料，如下一個cell\n",
    "\n",
    "###  4. 這組資料想解決的問題如何評估\n",
    "    透過客戶所提供的電信帳單及個人消費記錄資料，來預測客戶的還款能力。評估方式為ROC Curve。"
   ]
  },
  {
   "cell_type": "code",
   "execution_count": 1,
   "metadata": {
    "scrolled": true
   },
   "outputs": [
    {
     "data": {
      "text/html": [
       "<img src=\"https://storage.googleapis.com/kaggle-media/competitions/home-credit/home_credit.png\"/>"
      ],
      "text/plain": [
       "<IPython.core.display.Image object>"
      ]
     },
     "execution_count": 1,
     "metadata": {},
     "output_type": "execute_result"
    }
   ],
   "source": [
    "from IPython.display import Image\n",
    "from IPython.core.display import HTML \n",
    "Image(url= \"https://storage.googleapis.com/kaggle-media/competitions/home-credit/home_credit.png\")"
   ]
  },
  {
   "cell_type": "code",
   "execution_count": null,
   "metadata": {
    "collapsed": true
   },
   "outputs": [],
   "source": []
  }
 ],
 "metadata": {
  "kernelspec": {
   "display_name": "Python 3",
   "language": "python",
   "name": "python3"
  },
  "language_info": {
   "codemirror_mode": {
    "name": "ipython",
    "version": 3
   },
   "file_extension": ".py",
   "mimetype": "text/x-python",
   "name": "python",
   "nbconvert_exporter": "python",
   "pygments_lexer": "ipython3",
   "version": "3.6.3"
  }
 },
 "nbformat": 4,
 "nbformat_minor": 2
}
